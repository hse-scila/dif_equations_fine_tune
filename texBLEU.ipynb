{
 "cells": [
  {
   "cell_type": "code",
   "execution_count": 3,
   "metadata": {},
   "outputs": [
    {
     "name": "stderr",
     "output_type": "stream",
     "text": [
      "Calculating texBLEU: 100%|██████████| 15235/15235 [09:31<00:00, 26.64it/s]\n"
     ]
    },
    {
     "name": "stdout",
     "output_type": "stream",
     "text": [
      "Обновлённый файл сохранён как 'your_file_with_texbleu.csv'\n",
      "Средние значения texBLEU по типам сохранены в 'texbleu_mean_by_type.csv'\n"
     ]
    }
   ],
   "source": [
    "import pandas as pd\n",
    "from new_metric import texbleu\n",
    "from tqdm import tqdm\n",
    "\n",
    "# Upload CSV file\n",
    "df = pd.read_csv('test_results_T5model_fulldata_types.csv')  \n",
    "\n",
    "# Function for calculating texBLEU with protection against NaN\n",
    "def compute_texbleu(reference, candidate):\n",
    "    reference = str(reference) if pd.notnull(reference) else ''\n",
    "    candidate = str(candidate) if pd.notnull(candidate) else ''\n",
    "    return texbleu(reference, candidate)\n",
    "\n",
    "\n",
    "tqdm.pandas(desc=\"Calculating texBLEU\")\n",
    "df['texbleu_score'] = df.progress_apply(\n",
    "    lambda row: compute_texbleu(row['true_answer'], row['generated_answer']),\n",
    "    axis=1\n",
    ")\n",
    "\n",
    "df.to_csv('T5_with_texbleu.csv', index=False)\n",
    "\n",
    "# Grouping by equation type and calculating the average texBLEU value\n",
    "mean_scores = df.groupby('type')['texbleu_score'].mean().reset_index()\n",
    "mean_scores = mean_scores.rename(columns={'texbleu_score': 'mean_texbleu_score'})\n",
    "\n",
    "# Saving aggregated values\n",
    "mean_scores.to_csv('T5_texbleu_mean_by_type.csv', index=False)\n"
   ]
  },
  {
   "cell_type": "code",
   "execution_count": 1,
   "metadata": {},
   "outputs": [
    {
     "name": "stderr",
     "output_type": "stream",
     "text": [
      "Calculating texBLEU: 100%|██████████| 15254/15254 [13:52<00:00, 18.32it/s]\n"
     ]
    },
    {
     "name": "stdout",
     "output_type": "stream",
     "text": [
      "Обновлённый файл сохранён как 'your_file_with_texbleu.csv'\n",
      "Средние значения texBLEU по типам сохранены в 'texbleu_mean_by_type.csv'\n"
     ]
    }
   ],
   "source": [
    "import pandas as pd\n",
    "from new_metric import texbleu\n",
    "from tqdm import tqdm\n",
    "\n",
    "# Upload CSV file\n",
    "df = pd.read_csv('mamba_130M.csv') \n",
    "\n",
    "# Function for calculating texBLEU with protection against NaN\n",
    "def compute_texbleu(reference, candidate):\n",
    "    reference = str(reference) if pd.notnull(reference) else ''\n",
    "    candidate = str(candidate) if pd.notnull(candidate) else ''\n",
    "    return texbleu(reference, candidate)\n",
    "\n",
    "tqdm.pandas(desc=\"Calculating texBLEU\")\n",
    "df['texbleu_score'] = df.progress_apply(\n",
    "    lambda row: compute_texbleu(row['answer'], row['predictions']),\n",
    "    axis=1\n",
    ")\n",
    "\n",
    "df.to_csv('Mamba_with_texbleu.csv', index=False)\n",
    "\n",
    "# Grouping by equation type and calculating the average texBLEU value \n",
    "mean_scores = df.groupby('type')['texbleu_score'].mean().reset_index()\n",
    "mean_scores = mean_scores.rename(columns={'texbleu_score': 'mean_texbleu_score'})\n",
    "\n",
    "# Saving aggregated values\n",
    "mean_scores.to_csv('Mamba_texbleu_mean_by_type.csv', index=False)\n"
   ]
  },
  {
   "cell_type": "code",
   "execution_count": null,
   "metadata": {},
   "outputs": [
    {
     "name": "stderr",
     "output_type": "stream",
     "text": [
      "Calculating texBLEU:  13%|█▎        | 1993/15235 [01:49<10:05, 21.89it/s]"
     ]
    }
   ],
   "source": [
    "import pandas as pd\n",
    "from new_metric import texbleu\n",
    "from tqdm import tqdm\n",
    "\n",
    "# Upload CSV file\n",
    "df = pd.read_csv('mamba_28B.csv')\n",
    "\n",
    "# Function for calculating texBLEU with protection against NaN\n",
    "def compute_texbleu(reference, candidate):\n",
    "    reference = str(reference) if pd.notnull(reference) else ''\n",
    "    candidate = str(candidate) if pd.notnull(candidate) else ''\n",
    "    return texbleu(reference, candidate)\n",
    "\n",
    "\n",
    "tqdm.pandas(desc=\"Calculating texBLEU\")\n",
    "df['texbleu_score'] = df.progress_apply(\n",
    "    lambda row: compute_texbleu(row['answer'], row['predictions']),\n",
    "    axis=1\n",
    ")\n",
    "\n",
    "df.to_csv('Mamba_28B_with_texbleu.csv', index=False)\n",
    "\n",
    "# Grouping by equation type and calculating the average texBLEU value \n",
    "mean_scores = df.groupby('type')['texbleu_score'].mean().reset_index()\n",
    "mean_scores = mean_scores.rename(columns={'texbleu_score': 'mean_texbleu_score'})\n",
    "\n",
    "\n",
    "# Saving aggregated values\n",
    "mean_scores.to_csv('Mamba_28B_texbleu_mean_by_type.csv', index=False)\n"
   ]
  },
  {
   "cell_type": "code",
   "execution_count": null,
   "metadata": {},
   "outputs": [],
   "source": []
  }
 ],
 "metadata": {
  "kernelspec": {
   "display_name": "Python 3",
   "language": "python",
   "name": "python3"
  },
  "language_info": {
   "codemirror_mode": {
    "name": "ipython",
    "version": 3
   },
   "file_extension": ".py",
   "mimetype": "text/x-python",
   "name": "python",
   "nbconvert_exporter": "python",
   "pygments_lexer": "ipython3",
   "version": "3.7.1"
  }
 },
 "nbformat": 4,
 "nbformat_minor": 5
}
